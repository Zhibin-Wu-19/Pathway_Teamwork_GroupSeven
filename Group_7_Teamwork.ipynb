{
 "cells": [
  {
   "cell_type": "markdown",
   "id": "c13e3464-db7f-4ae5-a483-3119166bdc82",
   "metadata": {},
   "source": [
    "Tic-Tac-Toe"
   ]
  },
  {
   "cell_type": "markdown",
   "id": "9081a9a1-60e3-4841-936d-454fefecad00",
   "metadata": {},
   "source": [
    "Matin Shahabi Azadani / Zhibin Wu / Shahrear Emon / Tinnakrit Ketsomkiat / Karawgodage Dinusha Ayesh Jayawardana"
   ]
  },
  {
   "cell_type": "markdown",
   "id": "419b995d-6256-4583-9f6c-8c8658795efe",
   "metadata": {},
   "source": [
    "2025 / 09 / 28"
   ]
  },
  {
   "cell_type": "markdown",
   "id": "f8ee80bc-d7f5-4a8e-968b-c376935f2f39",
   "metadata": {},
   "source": [
    "https://github.com/Zhibin-Wu-19/Pathway_Teamwork_GroupSeven.git"
   ]
  },
  {
   "cell_type": "markdown",
   "id": "64d0149a-ee38-464a-b8d4-c10a2150c679",
   "metadata": {},
   "source": [
    "Explanation: Define Functions for the game board and checking win or draw, and a Function to play the game."
   ]
  },
  {
   "cell_type": "code",
   "execution_count": 5,
   "id": "9acef647-faac-4bff-8358-a3077c9e0a01",
   "metadata": {},
   "outputs": [
    {
     "name": "stdout",
     "output_type": "stream",
     "text": [
      "  |   |  \n",
      "----------\n",
      "  |   |  \n",
      "----------\n",
      "  |   |  \n",
      "----------\n",
      "Player X's turn.\n"
     ]
    },
    {
     "name": "stdin",
     "output_type": "stream",
     "text": [
      "Enter row (0-2):  1\n",
      "Enter col (0-2):  1\n"
     ]
    },
    {
     "name": "stdout",
     "output_type": "stream",
     "text": [
      "  |   |  \n",
      "----------\n",
      "  | X |  \n",
      "----------\n",
      "  |   |  \n",
      "----------\n",
      "Player O's turn.\n"
     ]
    },
    {
     "name": "stdin",
     "output_type": "stream",
     "text": [
      "Enter row (0-2):  0\n",
      "Enter col (0-2):  0\n"
     ]
    },
    {
     "name": "stdout",
     "output_type": "stream",
     "text": [
      "O |   |  \n",
      "----------\n",
      "  | X |  \n",
      "----------\n",
      "  |   |  \n",
      "----------\n",
      "Player X's turn.\n"
     ]
    },
    {
     "name": "stdin",
     "output_type": "stream",
     "text": [
      "Enter row (0-2):  0\n",
      "Enter col (0-2):  1\n"
     ]
    },
    {
     "name": "stdout",
     "output_type": "stream",
     "text": [
      "O | X |  \n",
      "----------\n",
      "  | X |  \n",
      "----------\n",
      "  |   |  \n",
      "----------\n",
      "Player O's turn.\n"
     ]
    },
    {
     "name": "stdin",
     "output_type": "stream",
     "text": [
      "Enter row (0-2):  2\n",
      "Enter col (0-2):  1\n"
     ]
    },
    {
     "name": "stdout",
     "output_type": "stream",
     "text": [
      "O | X |  \n",
      "----------\n",
      "  | X |  \n",
      "----------\n",
      "  | O |  \n",
      "----------\n",
      "Player X's turn.\n"
     ]
    },
    {
     "name": "stdin",
     "output_type": "stream",
     "text": [
      "Enter row (0-2):  0\n",
      "Enter col (0-2):  2\n"
     ]
    },
    {
     "name": "stdout",
     "output_type": "stream",
     "text": [
      "O | X | X\n",
      "----------\n",
      "  | X |  \n",
      "----------\n",
      "  | O |  \n",
      "----------\n",
      "Player O's turn.\n"
     ]
    },
    {
     "name": "stdin",
     "output_type": "stream",
     "text": [
      "Enter row (0-2):  2\n",
      "Enter col (0-2):  0\n"
     ]
    },
    {
     "name": "stdout",
     "output_type": "stream",
     "text": [
      "O | X | X\n",
      "----------\n",
      "  | X |  \n",
      "----------\n",
      "O | O |  \n",
      "----------\n",
      "Player X's turn.\n"
     ]
    },
    {
     "name": "stdin",
     "output_type": "stream",
     "text": [
      "Enter row (0-2):  1\n",
      "Enter col (0-2):  0\n"
     ]
    },
    {
     "name": "stdout",
     "output_type": "stream",
     "text": [
      "O | X | X\n",
      "----------\n",
      "X | X |  \n",
      "----------\n",
      "O | O |  \n",
      "----------\n",
      "Player O's turn.\n"
     ]
    },
    {
     "name": "stdin",
     "output_type": "stream",
     "text": [
      "Enter row (0-2):  1\n",
      "Enter col (0-2):  2\n"
     ]
    },
    {
     "name": "stdout",
     "output_type": "stream",
     "text": [
      "O | X | X\n",
      "----------\n",
      "X | X | O\n",
      "----------\n",
      "O | O |  \n",
      "----------\n",
      "Player X's turn.\n"
     ]
    },
    {
     "name": "stdin",
     "output_type": "stream",
     "text": [
      "Enter row (0-2):  2\n",
      "Enter col (0-2):  2\n"
     ]
    },
    {
     "name": "stdout",
     "output_type": "stream",
     "text": [
      "O | X | X\n",
      "----------\n",
      "X | X | O\n",
      "----------\n",
      "O | O | X\n",
      "----------\n",
      "It's a draw!\n"
     ]
    }
   ],
   "source": [
    "# Setup a board\n",
    "def print_board(board):\n",
    "    for row in board:\n",
    "        print(\" | \".join(row))\n",
    "        print(\"-\" * 10)\n",
    "\n",
    "def check_winner(board, player):\n",
    "    # Check rows\n",
    "    for row in board:\n",
    "        if all([cell == player for cell in row]):\n",
    "            return True\n",
    "    \n",
    "    # Check columns\n",
    "    for col in range(3):\n",
    "        if all([board[row][col] == player for row in range(3)]):\n",
    "            return True\n",
    "    \n",
    "    # Check diagonals\n",
    "    if all([board[i][i] == player for i in range(3)]) or all([board[i][2-i] == player for i in range(3)]):\n",
    "        return True\n",
    "    \n",
    "    return False\n",
    "\n",
    "def is_full(board):\n",
    "    return all(cell != \" \" for row in board for cell in row)\n",
    "\n",
    "def play_game():\n",
    "    board = [[\" \"]*3 for _ in range(3)]\n",
    "    current_player = \"X\"\n",
    "    \n",
    "    while True:\n",
    "        print_board(board)\n",
    "        print(f\"Player {current_player}'s turn.\")\n",
    "        \n",
    "        try:\n",
    "            row = int(input(\"Enter row (0-2): \"))\n",
    "            col = int(input(\"Enter col (0-2): \"))\n",
    "        except ValueError:\n",
    "            print(\"Invalid input, try again!\")\n",
    "            continue\n",
    "        \n",
    "        if row not in [0,1,2] or col not in [0,1,2]:\n",
    "            print(\"Out of range, try again!\")\n",
    "            continue\n",
    "        \n",
    "        if board[row][col] != \" \":\n",
    "            print(\"Cell already taken, try again!\")\n",
    "            continue\n",
    "        \n",
    "        board[row][col] = current_player\n",
    "        \n",
    "        if check_winner(board, current_player):\n",
    "            print_board(board)\n",
    "            print(f\"Player {current_player} wins!\")\n",
    "            break\n",
    "        \n",
    "        if is_full(board):\n",
    "            print_board(board)\n",
    "            print(\"It's a draw!\")\n",
    "            break\n",
    "        \n",
    "        # Switch player\n",
    "        current_player = \"O\" if current_player == \"X\" else \"X\"\n",
    "\n",
    "# Run the game\n",
    "play_game()"
   ]
  },
  {
   "cell_type": "code",
   "execution_count": null,
   "id": "9c1677f5-8dc1-4d62-812a-f53ae76ecc6a",
   "metadata": {},
   "outputs": [],
   "source": []
  }
 ],
 "metadata": {
  "kernelspec": {
   "display_name": "Python [conda env:base] *",
   "language": "python",
   "name": "conda-base-py"
  },
  "language_info": {
   "codemirror_mode": {
    "name": "ipython",
    "version": 3
   },
   "file_extension": ".py",
   "mimetype": "text/x-python",
   "name": "python",
   "nbconvert_exporter": "python",
   "pygments_lexer": "ipython3",
   "version": "3.13.5"
  }
 },
 "nbformat": 4,
 "nbformat_minor": 5
}
