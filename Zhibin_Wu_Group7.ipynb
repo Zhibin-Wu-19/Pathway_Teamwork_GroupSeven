{
 "cells": [
  {
   "cell_type": "markdown",
   "id": "7ab9e869-268a-4f24-8d63-69b89de40897",
   "metadata": {},
   "source": [
    "Tic-Tac-Toe"
   ]
  },
  {
   "cell_type": "markdown",
   "id": "c18be47c-8e91-4c84-be5f-fe789f0ef85e",
   "metadata": {},
   "source": [
    "Zhibin Wu / Matin Shahabi Azadani / Shahrear Emon / Tinnakrit Ketsomkiat / Karawgodage Dinusha Ayesh Jayawardana"
   ]
  },
  {
   "cell_type": "markdown",
   "id": "9b098c61-a9d3-4f69-93cb-e0852c7c5e88",
   "metadata": {},
   "source": [
    "https://github.com/Zhibin-Wu-19/Pathway_Teamwork_GroupSeven.git"
   ]
  },
  {
   "cell_type": "code",
   "execution_count": 19,
   "id": "c3e9de6d-7269-4eaf-a5e5-032314441e21",
   "metadata": {},
   "outputs": [],
   "source": [
    "# import the playground UI kit from Tkinter\n",
    "import tkinter as tk\n",
    "from tkinter import messagebox\n",
    "\n",
    "# set up the playground window and give the window a title\n",
    "interface = tk.Tk()\n",
    "interface.title(\"Tic Tac Toe\")\n",
    "\n",
    "# set up an empty playground board and add nine empty spaces in the board\n",
    "board = []\n",
    "for i in range(9):\n",
    "    board.append(\" \")\n",
    "\n",
    "# set first default player as X\n",
    "currentPlayer = \"X\"\n",
    "\n",
    "# check win situation\n",
    "def win_situation(player):\n",
    "    # check rows\n",
    "    if board[0] == board[1] == board[2] == player:\n",
    "        return True\n",
    "    if board[3] == board[4] == board[5] == player:\n",
    "        return True\n",
    "    if board[6] == board[7] == board[8] == player:\n",
    "        return True\n",
    "\n",
    "    # check columns\n",
    "    if board[0] == board[3] == board[6] == player:\n",
    "        return True\n",
    "    if board[1] == board[4] == board[7] == player:\n",
    "        return True\n",
    "    if board[2] == board[5] == board[8] == player:\n",
    "        return True\n",
    "\n",
    "    # check diagonals\n",
    "    if board[0] == board[4] == board[8] == player:\n",
    "        return True\n",
    "    if board[2] == board[4] == board[6] == player:\n",
    "        return True\n",
    "\n",
    "    return False\n",
    "\n",
    "# check draw situation\n",
    "def draw_situation():\n",
    "    for place in board:\n",
    "        if place == \" \":\n",
    "            return False # it is not draw\n",
    "    return True # it is draw\n",
    "\n",
    "\n",
    "# game start over\n",
    "def start_over():\n",
    "    global board, currentPlayer # get these two Var from public, and ready to reset their value\n",
    "    \n",
    "    board = []\n",
    "    for i in range(9):\n",
    "        board.append(\" \") # reset value\n",
    "    currentPlayer = \"X\" # reset value\n",
    "\n",
    "\n",
    "# creating playground style\n",
    "block = []\n",
    "for i in range(9):\n",
    "    bck = tk.Button(interface, text=\" \", font=(\"Arial\", 24), width=5, height=2,  command=lambda i=i: real_play(block[i], i)) # Tkinter kit style\n",
    "    bck.grid(row = i // 3, column = i % 3) # Tkinter kit style\n",
    "    \n",
    "    block.append(bck) # insert Tkinter kit style into block\n",
    "\n",
    "# Reset playground style\n",
    "reset_btn = tk.Button(interface, text=\"Reset\", font=(\"Arial\", 18), command=start_over) # Tkinter kit style\n",
    "reset_btn.grid(row=3, column=0, columnspan=3) # Tkinter kit style\n",
    "\n",
    "\n",
    "# checking if the result is win or draw\n",
    "def real_play(buttons, number):\n",
    "    global currentPlayer\n",
    "    \n",
    "    if board[number] == \" \":\n",
    "        board[number] = currentPlayer\n",
    "        buttons.config(text=currentPlayer) # Tkinter kit style\n",
    "        \n",
    "        # below if and else belongs to above if, only when above if ensure the x or o is settle down, then below ifelse go to check it's win or draw\n",
    "        if win_situation(currentPlayer):\n",
    "            messagebox.showinfo(\"Player \" + str(currentPlayer) + \" win!\") # Tkinter kit style\n",
    "            start_over()\n",
    "        elif draw_situation():\n",
    "            messagebox.showinfo(\"it's a draw. play again.\") # Tkinter kit style\n",
    "        else:\n",
    "            if currentPlayer == \"X\":\n",
    "                currentPlayer = \"O\"\n",
    "            else:\n",
    "                currentPlayer = \"X\"\n",
    "\n",
    "# start the game\n",
    "interface.mainloop()"
   ]
  },
  {
   "cell_type": "code",
   "execution_count": null,
   "id": "cbf13f94-c33b-41cd-a165-f926d972ee33",
   "metadata": {},
   "outputs": [],
   "source": []
  },
  {
   "cell_type": "code",
   "execution_count": null,
   "id": "d4c5738e-d06b-42d5-808b-f5da9e01f980",
   "metadata": {},
   "outputs": [],
   "source": []
  }
 ],
 "metadata": {
  "kernelspec": {
   "display_name": "Python [conda env:base] *",
   "language": "python",
   "name": "conda-base-py"
  },
  "language_info": {
   "codemirror_mode": {
    "name": "ipython",
    "version": 3
   },
   "file_extension": ".py",
   "mimetype": "text/x-python",
   "name": "python",
   "nbconvert_exporter": "python",
   "pygments_lexer": "ipython3",
   "version": "3.13.5"
  }
 },
 "nbformat": 4,
 "nbformat_minor": 5
}
